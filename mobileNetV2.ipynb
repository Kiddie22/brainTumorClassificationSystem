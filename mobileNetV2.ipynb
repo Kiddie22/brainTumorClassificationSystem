{
 "cells": [
  {
   "cell_type": "code",
   "execution_count": 26,
   "metadata": {},
   "outputs": [],
   "source": [
    "import numpy as np\n",
    "import tensorflow as tf\n",
    "from tensorflow import keras\n",
    "from tensorflow.keras.layers import Dense, Activation\n",
    "from tensorflow.keras.optimizers import Adam\n",
    "from tensorflow.keras.metrics import categorical_crossentropy\n",
    "from tensorflow.keras.preprocessing.image import ImageDataGenerator\n",
    "from tensorflow.keras.preprocessing import image\n",
    "from tensorflow.keras.models import Model\n",
    "from tensorflow.keras.applications import imagenet_utils\n",
    "from sklearn.metrics import confusion_matrix\n",
    "import itertools\n",
    "import os\n",
    "import shutil\n",
    "import random\n",
    "import matplotlib.pyplot as plt\n",
    "%matplotlib inline\n",
    "\n",
    "from os import path\n",
    "import os\n",
    "from matplotlib import pyplot as plt\n",
    "import numpy as np\n",
    "import h5py\n",
    "from PIL import Image\n",
    "import re\n",
    "import sys\n",
    "from glob import glob\n",
    "\n",
    "import cv2\n",
    "from skimage.transform import resize"
   ]
  },
  {
   "cell_type": "code",
   "execution_count": 2,
   "metadata": {},
   "outputs": [],
   "source": [
    "mobile = tf.keras.applications.mobilenet.MobileNet()"
   ]
  },
  {
   "cell_type": "code",
   "execution_count": null,
   "metadata": {},
   "outputs": [],
   "source": [
    "def change_dir(file: str, index: int):\n",
    "  f = h5py.File(file, 'r')\n",
    "  cjdata = f['cjdata']\n",
    "  label = cjdata.get('label')[0,0]\n",
    "  if(label==1):\n",
    "        shutil.copy2('C:/Users/Rasula/Documents/Projects/BrainTumorClassifier/images/' + str(index) + '.png',\n",
    "                    'C:/Users/Rasula/Documents/Projects/BrainTumorClassifier/images/1/' + str(index) + '.png')\n",
    "  if(label==2):\n",
    "        shutil.copy2('C:/Users/Rasula/Documents/Projects/BrainTumorClassifier/images/' + str(index) + '.png',\n",
    "                    'C:/Users/Rasula/Documents/Projects/BrainTumorClassifier/images/2/' + str(index) + '.png')\n",
    "  if(label==3):\n",
    "        shutil.copy2('C:/Users/Rasula/Documents/Projects/BrainTumorClassifier/images/' + str(index) + '.png',\n",
    "                    'C:/Users/Rasula/Documents/Projects/BrainTumorClassifier/images/3/' + str(index) + '.png')  \n",
    "        \n",
    "for a in range(1, 3065):\n",
    "  filePathToImg = 'C:/Users/Rasula/Documents/Projects/BrainTumorClassifier/dataset/' + str(a) + '.mat'\n",
    "  change_dir(filePathToImg, a)"
   ]
  },
  {
   "cell_type": "code",
   "execution_count": null,
   "metadata": {},
   "outputs": [],
   "source": [
    "# Organize data into train, valid, test dirs\n",
    "os.chdir('C:/Users/Rasula/Documents/Projects/BrainTumorClassifier/images/')\n",
    "if os.path.isdir('train/1/') is False: \n",
    "    os.mkdir('train')\n",
    "    os.mkdir('valid')\n",
    "    os.mkdir('test')\n",
    "\n",
    "    for i in range(1, 4):\n",
    "        shutil.move(f'{i}', 'train')\n",
    "        os.mkdir(f'valid/{i}')\n",
    "        os.mkdir(f'test/{i}')\n",
    "\n",
    "        valid_samples = random.sample(os.listdir(f'train/{i}'), 30)\n",
    "        for j in valid_samples:\n",
    "            shutil.move(f'train/{i}/{j}', f'valid/{i}')\n",
    "\n",
    "        test_samples = random.sample(os.listdir(f'train/{i}'), 5)\n",
    "        for k in test_samples:\n",
    "            shutil.move(f'train/{i}/{k}', f'test/{i}')\n",
    "os.chdir('../..')"
   ]
  },
  {
   "cell_type": "code",
   "execution_count": 3,
   "metadata": {},
   "outputs": [],
   "source": [
    "train_path = 'C:/Users/Rasula/Documents/Projects/BrainTumorClassifier/images/train'\n",
    "valid_path = 'C:/Users/Rasula/Documents/Projects/BrainTumorClassifier/images/valid'\n",
    "test_path = 'C:/Users/Rasula/Documents/Projects/BrainTumorClassifier/images/test'"
   ]
  },
  {
   "cell_type": "code",
   "execution_count": 4,
   "metadata": {},
   "outputs": [
    {
     "name": "stdout",
     "output_type": "stream",
     "text": [
      "Found 2959 images belonging to 3 classes.\n",
      "Found 90 images belonging to 3 classes.\n",
      "Found 15 images belonging to 3 classes.\n"
     ]
    }
   ],
   "source": [
    "train_batches = ImageDataGenerator(preprocessing_function=tf.keras.applications.mobilenet.preprocess_input).flow_from_directory(\n",
    "    directory=train_path, target_size=(224,224), batch_size=10)\n",
    "valid_batches = ImageDataGenerator(preprocessing_function=tf.keras.applications.mobilenet.preprocess_input).flow_from_directory(\n",
    "    directory=valid_path, target_size=(224,224), batch_size=10)\n",
    "test_batches = ImageDataGenerator(preprocessing_function=tf.keras.applications.mobilenet.preprocess_input).flow_from_directory(\n",
    "    directory=test_path, target_size=(224,224), batch_size=10, shuffle=False)"
   ]
  },
  {
   "cell_type": "code",
   "execution_count": 5,
   "metadata": {},
   "outputs": [],
   "source": [
    "mobile = tf.keras.applications.mobilenet.MobileNet()"
   ]
  },
  {
   "cell_type": "code",
   "execution_count": 6,
   "metadata": {},
   "outputs": [],
   "source": [
    "x = mobile.layers[-6].output\n",
    "output = Dense(units=3, activation='softmax')(x)"
   ]
  },
  {
   "cell_type": "code",
   "execution_count": 7,
   "metadata": {},
   "outputs": [],
   "source": [
    "model = Model(inputs=mobile.input, outputs=output)"
   ]
  },
  {
   "cell_type": "code",
   "execution_count": 8,
   "metadata": {},
   "outputs": [],
   "source": [
    "for layer in model.layers[:-23]:\n",
    "    layer.trainable = False"
   ]
  },
  {
   "cell_type": "code",
   "execution_count": 9,
   "metadata": {},
   "outputs": [],
   "source": [
    "model.compile(optimizer=Adam(lr=0.0001), loss='categorical_crossentropy', metrics=['accuracy'])"
   ]
  },
  {
   "cell_type": "code",
   "execution_count": 10,
   "metadata": {},
   "outputs": [
    {
     "name": "stdout",
     "output_type": "stream",
     "text": [
      "Epoch 1/30\n",
      "296/296 - 62s - loss: 0.3244 - accuracy: 0.8729 - val_loss: 0.4089 - val_accuracy: 0.8444\n",
      "Epoch 2/30\n",
      "296/296 - 62s - loss: 0.1282 - accuracy: 0.9540 - val_loss: 0.1556 - val_accuracy: 0.9444\n",
      "Epoch 3/30\n",
      "296/296 - 61s - loss: 0.0730 - accuracy: 0.9790 - val_loss: 0.4083 - val_accuracy: 0.8444\n",
      "Epoch 4/30\n",
      "296/296 - 60s - loss: 0.0492 - accuracy: 0.9861 - val_loss: 0.1303 - val_accuracy: 0.9333\n",
      "Epoch 5/30\n",
      "296/296 - 61s - loss: 0.0344 - accuracy: 0.9916 - val_loss: 0.1183 - val_accuracy: 0.9444\n",
      "Epoch 6/30\n",
      "296/296 - 64s - loss: 0.0327 - accuracy: 0.9905 - val_loss: 0.1767 - val_accuracy: 0.9222\n",
      "Epoch 7/30\n",
      "296/296 - 63s - loss: 0.0187 - accuracy: 0.9959 - val_loss: 0.1393 - val_accuracy: 0.9444\n",
      "Epoch 8/30\n",
      "296/296 - 60s - loss: 0.0217 - accuracy: 0.9936 - val_loss: 0.1718 - val_accuracy: 0.9556\n",
      "Epoch 9/30\n",
      "296/296 - 60s - loss: 0.0222 - accuracy: 0.9943 - val_loss: 0.2318 - val_accuracy: 0.9444\n",
      "Epoch 10/30\n",
      "296/296 - 65s - loss: 0.0312 - accuracy: 0.9895 - val_loss: 0.2968 - val_accuracy: 0.9111\n",
      "Epoch 11/30\n",
      "296/296 - 65s - loss: 0.0275 - accuracy: 0.9902 - val_loss: 0.1301 - val_accuracy: 0.9556\n",
      "Epoch 12/30\n",
      "296/296 - 63s - loss: 0.0182 - accuracy: 0.9936 - val_loss: 0.1507 - val_accuracy: 0.9333\n",
      "Epoch 13/30\n",
      "296/296 - 69s - loss: 0.0134 - accuracy: 0.9966 - val_loss: 0.2774 - val_accuracy: 0.9111\n",
      "Epoch 14/30\n",
      "296/296 - 75s - loss: 0.0168 - accuracy: 0.9932 - val_loss: 0.1453 - val_accuracy: 0.9556\n",
      "Epoch 15/30\n",
      "296/296 - 66s - loss: 0.0209 - accuracy: 0.9932 - val_loss: 0.6200 - val_accuracy: 0.8444\n",
      "Epoch 16/30\n",
      "296/296 - 65s - loss: 0.0223 - accuracy: 0.9932 - val_loss: 1.3092 - val_accuracy: 0.8000\n",
      "Epoch 17/30\n",
      "296/296 - 69s - loss: 0.0163 - accuracy: 0.9943 - val_loss: 0.0856 - val_accuracy: 0.9778\n",
      "Epoch 18/30\n",
      "296/296 - 61s - loss: 0.0084 - accuracy: 0.9983 - val_loss: 0.1940 - val_accuracy: 0.9444\n",
      "Epoch 19/30\n",
      "296/296 - 60s - loss: 0.0069 - accuracy: 0.9990 - val_loss: 0.0713 - val_accuracy: 0.9889\n",
      "Epoch 20/30\n",
      "296/296 - 60s - loss: 0.0248 - accuracy: 0.9912 - val_loss: 0.1066 - val_accuracy: 0.9778\n",
      "Epoch 21/30\n",
      "296/296 - 60s - loss: 0.0241 - accuracy: 0.9909 - val_loss: 0.2845 - val_accuracy: 0.9222\n",
      "Epoch 22/30\n",
      "296/296 - 60s - loss: 0.0145 - accuracy: 0.9949 - val_loss: 0.2184 - val_accuracy: 0.9111\n",
      "Epoch 23/30\n",
      "296/296 - 60s - loss: 0.0111 - accuracy: 0.9966 - val_loss: 0.4447 - val_accuracy: 0.8889\n",
      "Epoch 24/30\n",
      "296/296 - 60s - loss: 0.0059 - accuracy: 0.9973 - val_loss: 0.1771 - val_accuracy: 0.9556\n",
      "Epoch 25/30\n",
      "296/296 - 60s - loss: 0.0057 - accuracy: 0.9976 - val_loss: 0.1544 - val_accuracy: 0.9667\n",
      "Epoch 26/30\n",
      "296/296 - 60s - loss: 0.0030 - accuracy: 1.0000 - val_loss: 0.1395 - val_accuracy: 0.9333\n",
      "Epoch 27/30\n",
      "296/296 - 60s - loss: 0.0109 - accuracy: 0.9966 - val_loss: 0.1904 - val_accuracy: 0.9333\n",
      "Epoch 28/30\n",
      "296/296 - 60s - loss: 0.0158 - accuracy: 0.9932 - val_loss: 0.1512 - val_accuracy: 0.9667\n",
      "Epoch 29/30\n",
      "296/296 - 60s - loss: 0.0115 - accuracy: 0.9963 - val_loss: 0.1894 - val_accuracy: 0.9333\n",
      "Epoch 30/30\n",
      "296/296 - 60s - loss: 0.0044 - accuracy: 0.9993 - val_loss: 0.1994 - val_accuracy: 0.9333\n"
     ]
    },
    {
     "data": {
      "text/plain": [
       "<tensorflow.python.keras.callbacks.History at 0x2078d084520>"
      ]
     },
     "execution_count": 10,
     "metadata": {},
     "output_type": "execute_result"
    }
   ],
   "source": [
    "model.fit(x=train_batches,\n",
    "            steps_per_epoch=len(train_batches),\n",
    "            validation_data=valid_batches,\n",
    "            validation_steps=len(valid_batches),\n",
    "            epochs=30,\n",
    "            verbose=2\n",
    ")"
   ]
  },
  {
   "cell_type": "code",
   "execution_count": 11,
   "metadata": {},
   "outputs": [],
   "source": [
    "history = model.history.history"
   ]
  },
  {
   "cell_type": "code",
   "execution_count": 12,
   "metadata": {},
   "outputs": [
    {
     "name": "stdout",
     "output_type": "stream",
     "text": [
      "loss\n",
      "accuracy\n",
      "val_loss\n",
      "val_accuracy\n"
     ]
    }
   ],
   "source": [
    "for key in history.keys():\n",
    "    print(key)"
   ]
  },
  {
   "cell_type": "code",
   "execution_count": 13,
   "metadata": {},
   "outputs": [],
   "source": [
    "def plot_metrics(history):\n",
    "    \n",
    "    train_loss = history['loss']\n",
    "    val_loss = history['val_loss']\n",
    "    train_acc = history['accuracy']\n",
    "    val_acc = history['val_accuracy']\n",
    "    \n",
    "    # Loss\n",
    "    plt.figure()\n",
    "    plt.plot(train_loss, label='Training Loss')\n",
    "    plt.plot(val_loss, label='Validation Loss')\n",
    "    plt.title('Loss')\n",
    "    plt.legend()\n",
    "    plt.show()\n",
    "    \n",
    "    # Accuracy\n",
    "    plt.figure()\n",
    "    plt.plot(train_acc, label='Training Accuracy')\n",
    "    plt.plot(val_acc, label='Validation Accuracy')\n",
    "    plt.title('Accuracy')\n",
    "    plt.legend()\n",
    "    plt.show()"
   ]
  },
  {
   "cell_type": "code",
   "execution_count": 14,
   "metadata": {},
   "outputs": [
    {
     "data": {
      "image/png": "[encoded data removed]",
      "text/plain": [
       "<Figure size 432x288 with 1 Axes>"
      ]
     },
     "metadata": {
      "needs_background": "light"
     },
     "output_type": "display_data"
    },
    {
     "data": {
      "image/png": "[encoded data removed]",
      "text/plain": [
       "<Figure size 432x288 with 1 Axes>"
      ]
     },
     "metadata": {
      "needs_background": "light"
     },
     "output_type": "display_data"
    }
   ],
   "source": [
    "plot_metrics(history)"
   ]
  },
  {
   "cell_type": "code",
   "execution_count": 15,
   "metadata": {},
   "outputs": [],
   "source": [
    "test_labels = test_batches.classes"
   ]
  },
  {
   "cell_type": "code",
   "execution_count": 16,
   "metadata": {},
   "outputs": [],
   "source": [
    "predictions = model.predict(x=test_batches, steps=len(test_batches), verbose=0)"
   ]
  },
  {
   "cell_type": "code",
   "execution_count": 17,
   "metadata": {},
   "outputs": [],
   "source": [
    "cm = confusion_matrix(y_true=test_labels, y_pred=predictions.argmax(axis=1))"
   ]
  },
  {
   "cell_type": "code",
   "execution_count": 18,
   "metadata": {},
   "outputs": [],
   "source": [
    "def plot_confusion_matrix(cm, classes,\n",
    "                          normalize=False,\n",
    "                          title='Confusion matrix',\n",
    "                          cmap=plt.cm.Blues):\n",
    "    \"\"\"\n",
    "    This function prints and plots the confusion matrix.\n",
    "    Normalization can be applied by setting `normalize=True`.\n",
    "    \"\"\"\n",
    "    plt.imshow(cm, interpolation='nearest', cmap=cmap)\n",
    "    plt.title(title)\n",
    "    plt.colorbar()\n",
    "    tick_marks = np.arange(len(classes))\n",
    "    plt.xticks(tick_marks, classes, rotation=45)\n",
    "    plt.yticks(tick_marks, classes)\n",
    "\n",
    "    if normalize:\n",
    "        cm = cm.astype('float') / cm.sum(axis=1)[:, np.newaxis]\n",
    "        print(\"Normalized confusion matrix\")\n",
    "    else:\n",
    "        print('Confusion matrix, without normalization')\n",
    "\n",
    "    print(cm)\n",
    "\n",
    "    thresh = cm.max() / 2.\n",
    "    for i, j in itertools.product(range(cm.shape[0]), range(cm.shape[1])):\n",
    "        plt.text(j, i, cm[i, j],\n",
    "            horizontalalignment=\"center\",\n",
    "            color=\"white\" if cm[i, j] > thresh else \"black\")\n",
    "\n",
    "    plt.tight_layout()\n",
    "    plt.ylabel('True label')\n",
    "    plt.xlabel('Predicted label')\n"
   ]
  },
  {
   "cell_type": "code",
   "execution_count": 19,
   "metadata": {},
   "outputs": [
    {
     "data": {
      "text/plain": [
       "{'1': 0, '2': 1, '3': 2}"
      ]
     },
     "execution_count": 19,
     "metadata": {},
     "output_type": "execute_result"
    }
   ],
   "source": [
    "test_batches.class_indices"
   ]
  },
  {
   "cell_type": "code",
   "execution_count": 20,
   "metadata": {},
   "outputs": [
    {
     "name": "stdout",
     "output_type": "stream",
     "text": [
      "Confusion matrix, without normalization\n",
      "[[5 0 0]\n",
      " [1 4 0]\n",
      " [0 0 5]]\n"
     ]
    },
    {
     "data": {
      "image/png": "[encoded data removed]",
      "text/plain": [
       "<Figure size 432x288 with 2 Axes>"
      ]
     },
     "metadata": {
      "needs_background": "light"
     },
     "output_type": "display_data"
    }
   ],
   "source": [
    "cm_plot_labels = ['1','2','3']\n",
    "plot_confusion_matrix(cm=cm, classes=cm_plot_labels, title='Confusion Matrix')"
   ]
  },
  {
   "cell_type": "code",
   "execution_count": 21,
   "metadata": {},
   "outputs": [],
   "source": [
    "model.save('C:/Users/Rasula/Documents/Projects/deepLizardModel/models/mobileNetV2_2_model.h5')"
   ]
  },
  {
   "cell_type": "code",
   "execution_count": 28,
   "metadata": {},
   "outputs": [
    {
     "name": "stdout",
     "output_type": "stream",
     "text": [
      "[[1.5659355e-06 2.6041977e-03 9.9739420e-01]]\n"
     ]
    },
    {
     "data": {
      "text/plain": [
       "array([[0., 0., 1.]], dtype=float32)"
      ]
     },
     "execution_count": 28,
     "metadata": {},
     "output_type": "execute_result"
    }
   ],
   "source": [
    "ex_img = cv2.imread('yes.jpg')\n",
    "resized_image = resize(ex_img, (224,224,3))\n",
    "predictions = model.predict(np.array([resized_image]))\n",
    "print(predictions)\n",
    "np.round(predictions)"
   ]
  },
  {
   "cell_type": "code",
   "execution_count": 29,
   "metadata": {},
   "outputs": [
    {
     "name": "stdout",
     "output_type": "stream",
     "text": [
      "[[0.0271957  0.16205071 0.8107536 ]]\n"
     ]
    },
    {
     "data": {
      "text/plain": [
       "array([[0., 0., 1.]], dtype=float32)"
      ]
     },
     "execution_count": 29,
     "metadata": {},
     "output_type": "execute_result"
    }
   ],
   "source": [
    "ex_img = cv2.imread('meningioma.jpg')\n",
    "resized_image = resize(ex_img, (224,224,3))\n",
    "predictions = model.predict(np.array([resized_image]))\n",
    "print(predictions)\n",
    "np.round(predictions)"
   ]
  },
  {
   "cell_type": "code",
   "execution_count": 30,
   "metadata": {},
   "outputs": [
    {
     "name": "stdout",
     "output_type": "stream",
     "text": [
      "[[6.0046859e-06 9.5211522e-04 9.9904186e-01]]\n"
     ]
    },
    {
     "data": {
      "text/plain": [
       "array([[0., 0., 1.]], dtype=float32)"
      ]
     },
     "execution_count": 30,
     "metadata": {},
     "output_type": "execute_result"
    }
   ],
   "source": [
    "ex_img = cv2.imread('glioma.jpg')\n",
    "resized_image = resize(ex_img, (224,224,3))\n",
    "predictions = model.predict(np.array([resized_image]))\n",
    "print(predictions)\n",
    "np.round(predictions)"
   ]
  },
  {
   "cell_type": "code",
   "execution_count": null,
   "metadata": {},
   "outputs": [],
   "source": []
  }
 ],
 "metadata": {
  "kernelspec": {
   "display_name": "local-venv",
   "language": "python",
   "name": "local-venv"
  },
  "language_info": {
   "codemirror_mode": {
    "name": "ipython",
    "version": 3
   },
   "file_extension": ".py",
   "mimetype": "text/x-python",
   "name": "python",
   "nbconvert_exporter": "python",
   "pygments_lexer": "ipython3",
   "version": "3.8.7"
  }
 },
 "nbformat": 4,
 "nbformat_minor": 4
}
